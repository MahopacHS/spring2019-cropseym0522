{
  "cells": [
    {
      "metadata": {},
      "cell_type": "markdown",
      "source": "# Now You Code 3: Coin Flips\n\nWrite a program to simulate 100,000 coin flips. The program should output\nthe tally of heads and tails across the number of flips.\n\nFor Example:\nAfter 100000 flips. Heads: 50030, Tails 49970\n\nOf course, since the flips are random, the counts will vary each time the program executes.\n\nYour strategy should be to use a loop to flip a coin 100,000 times.\nAfter you flip you should check for heads or tails and increment the count\naccordingly.\n\n### How do you make Python simulate a coin flip?"
    },
    {
      "metadata": {
        "trusted": true
      },
      "cell_type": "code",
      "source": "# Sample code which demostrates how to flip a coin in python\nimport random \ncoin = ['heads', 'tails']\nflip = random.choice(coin)\nprint(flip)",
      "execution_count": null,
      "outputs": []
    },
    {
      "metadata": {},
      "cell_type": "markdown",
      "source": "Run the cell above a couple of times. Notice how each time you execute the code, it comes up as either `heads` or `tails`.\n\nHere's a breakdown of the code\n\n```\nline 1 imports the random module\nline 2 sets up a coin to have two choices heads or tails\nline 3 \"flips\" a coin by making a random choice among the values of the coin ('heads' or 'tails')\nline 4 prints the results of the coin flip.\n```\n\nNow that you understand how to simulate a coin flip a Python, try to design then write code for the program."
    },
    {
      "metadata": {
        "collapsed": true
      },
      "cell_type": "markdown",
      "source": "## Step 1: Problem Analysis \n\nInputs:\n-how many times should i flip the coin\nOutputs:\n- how many times it landed on heads and tails\nAlgorithm (Steps in Program):\n1. enter the amount of times to flip\n2. the code flips the coin\n3. how many times it landed on heads and tails"
    },
    {
      "metadata": {
        "trusted": true
      },
      "cell_type": "code",
      "source": "# Step 2: write code for program\nimport random\nflips = int(input(\"How many times should I flip the coin: \"))\ntossed = [random.choice([\"heads\", \"tails\"]) for toss in range(flips)]\nprint(\"The coin landed on heads {} times and landed on tails {} times.\".format(tossed.count(\"heads\"), tossed.count(\"tails\")))",
      "execution_count": 2,
      "outputs": [
        {
          "output_type": "stream",
          "name": "stdout",
          "text": "How many times should i flip the coin: 1000\nThe coin landed on heads 495 times and landed on tails 505 times.\n"
        }
      ]
    },
    {
      "metadata": {},
      "cell_type": "markdown",
      "source": "## Step 3: Questions\n\n1. Which loop did you use to solve the problem? What is a definite or indefinite loop? \nI used an definite loop to solve this problem\n\n2. Modify this program to allow you to input the number of times you would like to flip the coin. NOTE: if you enter a large number, the program could take a few minutes to execute. Be Patient!!!\n\n\n3. Explain how could this progam could be modified to track flipping a \"three\" sided coin with `heads`, `tails` and `foos` for example? Do not modify the code, only explain your strategy.\nI could just add another side into the program named foos and have to code run to see if it will work\n"
    },
    {
      "metadata": {},
      "cell_type": "markdown",
      "source": "## Reminder of Evaluation Criteria\n\n1. What the problem attempted (analysis, code, and answered questions) ?\n2. What the problem analysis thought out? (does the program match the plan?)\n3. Does the code execute without syntax error?\n4. Does the code solve the intended problem?\n5. Is the code well written? (easy to understand, modular, and self-documenting, handles errors)\n"
    },
    {
      "metadata": {
        "collapsed": true,
        "trusted": false
      },
      "cell_type": "code",
      "source": "",
      "execution_count": null,
      "outputs": []
    }
  ],
  "metadata": {
    "anaconda-cloud": {},
    "kernelspec": {
      "name": "python3",
      "display_name": "Python 3",
      "language": "python"
    },
    "language_info": {
      "mimetype": "text/x-python",
      "nbconvert_exporter": "python",
      "name": "python",
      "pygments_lexer": "ipython3",
      "version": "3.5.4",
      "file_extension": ".py",
      "codemirror_mode": {
        "version": 3,
        "name": "ipython"
      }
    }
  },
  "nbformat": 4,
  "nbformat_minor": 1
}