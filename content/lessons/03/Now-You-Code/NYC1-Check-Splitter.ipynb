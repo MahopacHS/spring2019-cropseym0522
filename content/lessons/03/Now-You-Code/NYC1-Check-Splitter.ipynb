{
  "cells": [
    {
      "metadata": {},
      "cell_type": "markdown",
      "source": "# Now You Code 1: Check Splitter\n\nWrite a Python program which splits up a restaurant check. It first prompts you to input the total amount of your check, then the number of people dining. It should then output the amout each diner must contribute to the check.  For example:\n\n```\n*** Check Splitter ***\nHow much is the amount of the check? 100.00\nHow many people ? 6\nEach person owes: $16.67\n```\n\nNOTE: Use string formatters to display the output to two decimal places.\n"
    },
    {
      "metadata": {
        "collapsed": true
      },
      "cell_type": "markdown",
      "source": "## Step 1: Problem Analysis\n\nInputs:\n-total amount of check\n-number of people as a integer\n\nOutputs:\n-amount each person owes towards check\n\nAlgorithm (Steps in Program):\n1. input number of people\n2. input amount of check\n3. owes\n4. print the amount each person owes\n\n"
    },
    {
      "metadata": {
        "trusted": true
      },
      "cell_type": "code",
      "source": "print(\"*** Check Splitter ***\")\ncheck_total = float(input(\"How much is the amount of the check? \"))\npeople = int(input(\"How many people? \")) \neach_person_owes = check_total / people\nprint(\"Each person owes:$%.2f\" %(each_person_owes))",
      "execution_count": 14,
      "outputs": [
        {
          "output_type": "stream",
          "text": "*** Check Splitter***\nHow much is the amount of the check? 100\nHow many people? 6\nEach person owes:$16.67\n",
          "name": "stdout"
        }
      ]
    },
    {
      "metadata": {},
      "cell_type": "markdown",
      "source": "## Step 3: Questions\n\n1. What happens when you enter `TWO` instead of `2` for the number of people dining? or $60 as the amount of the check, instead of 60? \nif you type in two or $60 there becomes a error but when you type in 2 and 60 there is no error.\n\n2. What type of error is this? Do you think it can be handled in code?\nthis is called a value error and this can be fixed by going back into your code on the line it says has an error. so yes i think it  can be handeled in code. \n\n3. Explain what happens when you enter `0.5` for the number of people dining? Does the program run? Does it make sense? \nthere is an error because you can not have half of a person.\n"
    },
    {
      "metadata": {},
      "cell_type": "markdown",
      "source": "## Reminder of Evaluation Criteria\n\n1. What the problem attempted (analysis, code, and answered questions) ?\n2. What the problem analysis thought out? (does the program match the plan?)\n3. Does the code execute without syntax error?\n4. Does the code solve the intended problem?\n5. Is the code well written? (easy to understand, modular, and self-documenting, handles errors)\n"
    },
    {
      "metadata": {
        "collapsed": true,
        "trusted": false
      },
      "cell_type": "code",
      "source": "",
      "execution_count": null,
      "outputs": []
    }
  ],
  "metadata": {
    "anaconda-cloud": {},
    "kernelspec": {
      "name": "python3",
      "display_name": "Python 3",
      "language": "python"
    },
    "language_info": {
      "mimetype": "text/x-python",
      "nbconvert_exporter": "python",
      "name": "python",
      "file_extension": ".py",
      "version": "3.5.4",
      "pygments_lexer": "ipython3",
      "codemirror_mode": {
        "version": 3,
        "name": "ipython"
      }
    }
  },
  "nbformat": 4,
  "nbformat_minor": 1
}