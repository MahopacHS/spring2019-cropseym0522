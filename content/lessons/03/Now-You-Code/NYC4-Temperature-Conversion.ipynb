{
  "cells": [
    {
      "metadata": {},
      "cell_type": "markdown",
      "source": "# Now You Code 4: Temperature Conversion\n\nWrite a python program which will convert temperatures from Celcius to Fahrenheight.\nThe program should take a temperature in degrees Celcius as input and output a temperature in degrees Fahrenheight.\n\nExample:\n\n```\nEnter the temperature in Celcius: 100\n100 Celcius is 212 Fahrenheight\n```\n\nHINT: Use the web to find the formula to convert from Celcius to Fahrenheight.\n"
    },
    {
      "metadata": {},
      "cell_type": "markdown",
      "source": "## Step 1: Problem Analysis\n\nInputs:\n-input temperature in celcius\n\nOutputs:\n- the degrees in fahrenheight\n\nAlgorithm (Steps in Program):\n1. input temperature in celcius\n2. (celcius x 1.8)+32=fahrenheit\n3. print the temperature in fahrenheit\n\n\n"
    },
    {
      "metadata": {
        "trusted": true
      },
      "cell_type": "code",
      "source": "# Step 2: write code here\nc = float(input(\"Enter the temperature in celcius \"))\nf = (c * 1.8) + 32\nprint(c, \"degrees Celcius is\", f, \"degrees Fahrenhiet\" )",
      "execution_count": 2,
      "outputs": [
        {
          "output_type": "stream",
          "name": "stdout",
          "text": "Enter the temperature in celcius 7\n7.0 degrees Celcius is 44.6 degrees Fahrenhiet\n"
        }
      ]
    },
    {
      "metadata": {},
      "cell_type": "markdown",
      "source": "## Step 3: Questions\n\n1. Why does the program still run when you enter a negative number for temperature? Is this an error?\n\nThe program still runs because a negative number is still a number so python sees it how it is and puts it in the code. Also no this is not an error. \n\n2. Would it be difficult to write a program which did the opposite (conversion F to C)? Explain. \n\nNo it would not be difficult to write a program which did the opposite of converting celcius to fahrenheit because you would just be writing the opposite of what you said. So instead of writing (c * 1.8) + 32 you would write (f/1.8) - 32 to convert it to celcius.\n\n3. Did you store the conversion in a variable before printing it on the last line? I argue this makes your program easier to understand. Why?\n\nI did store the conversion in a variable before printing it on the last line. This would make your program easier to understand because you can see what the value is of that letter to make it easier to see what will happen in the code instead of having all of these numbers in the way that are close together and making it hard to read.\n"
    },
    {
      "metadata": {},
      "cell_type": "markdown",
      "source": "## Reminder of Evaluation Criteria\n\n1. What the problem attempted (analysis, code, and answered questions) ?\n2. What the problem analysis thought out? (does the program match the plan?)\n3. Does the code execute without syntax error?\n4. Does the code solve the intended problem?\n5. Is the code well written? (easy to understand, modular, and self-documenting, handles errors)\n"
    },
    {
      "metadata": {
        "collapsed": true,
        "trusted": false
      },
      "cell_type": "code",
      "source": "",
      "execution_count": null,
      "outputs": []
    }
  ],
  "metadata": {
    "anaconda-cloud": {},
    "kernelspec": {
      "name": "python3",
      "display_name": "Python 3",
      "language": "python"
    },
    "language_info": {
      "mimetype": "text/x-python",
      "nbconvert_exporter": "python",
      "name": "python",
      "pygments_lexer": "ipython3",
      "version": "3.5.4",
      "file_extension": ".py",
      "codemirror_mode": {
        "version": 3,
        "name": "ipython"
      }
    }
  },
  "nbformat": 4,
  "nbformat_minor": 1
}