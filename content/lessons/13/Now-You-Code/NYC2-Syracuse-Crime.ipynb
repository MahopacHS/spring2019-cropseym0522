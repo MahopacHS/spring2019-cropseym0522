{
  "cells": [
    {
      "metadata": {},
      "cell_type": "markdown",
      "source": "## Now You Code 2: Syracuse Crime Data\n\nIn this second now you code you will explore the plot.ly engine in detail using Syracuse, NY FBI crime data."
    },
    {
      "metadata": {
        "collapsed": true,
        "trusted": false
      },
      "cell_type": "code",
      "source": "import plotly.plotly as py    \nimport plotly.graph_objs as go  \nimport cufflinks as cf\nimport pandas as pd",
      "execution_count": null,
      "outputs": []
    },
    {
      "metadata": {
        "trusted": false
      },
      "cell_type": "code",
      "source": "crime = pd.read_csv('https://raw.githubusercontent.com/mafudge/datasets/master/crime/syracuse-crime-data-1985-2012.csv')\ncrime.sample(10)",
      "execution_count": null,
      "outputs": []
    },
    {
      "metadata": {
        "trusted": false
      },
      "cell_type": "code",
      "source": "# Make a line plot of population over the years, using cufflinks crime.iplot()\n# set the titles on x \"Year, Y \"Population\" and cart title \" Syracuse Population\" \n# TODO: replace the ???? with appropriate values to render the chart\ncrime.iplot(kind = 'scatter', x = '????', y = '????', title='????',xTitle='????',yTitle='????')",
      "execution_count": null,
      "outputs": []
    },
    {
      "metadata": {
        "trusted": false
      },
      "cell_type": "code",
      "source": "# Step 1:\n# Now plot the same thing using plot.ly without cufflinks, again filling in the templates. Using plot.ly takes more effort but\n# you have more control / flexibility over how the plots are rendered.\nplot_data = [\n    go.Scatter(x=crime['????'], y=crime['????'], mode=\"lines+markers\", name=\"????\", marker=dict(color='red')),\n]\n\npy.iplot({ 'data': plot_data,\n            'layout': {\n               'title': '?????',\n               'xaxis': {\n                 'title': '???'},\n               'yaxis': {\n                'title': '???'}\n        }})",
      "execution_count": null,
      "outputs": []
    },
    {
      "metadata": {
        "trusted": false
      },
      "cell_type": "code",
      "source": "# Step 2:\n# Now create a line plot of \"Robbery rate\" versus \"Motor vehicle theft rate\" over time.\n# NOTE: you will need two series in your plot_data \n",
      "execution_count": null,
      "outputs": []
    },
    {
      "metadata": {},
      "cell_type": "markdown",
      "source": "# Interactive Plots\n\nFinally write a program to ask for a crime metric like \"Robbery\" / \"Burglary\" / \"Manslaughter\" etc as input, \nthen renders a plot of that metric over time as output !\n\nNote: check to make sure the entered crime metric is in the list of Pandas columns before you attempt to plot. \nIt might be a good idea to print the column names before you plot.\nif it is not you should print \"That is not a crime metric\"\n\n"
    },
    {
      "metadata": {},
      "cell_type": "markdown",
      "source": "## Step 3: Problem Analysis\n\nInputs:\n\nOutputs:\n\nAlgorithm (Steps in Program):\n"
    },
    {
      "metadata": {
        "trusted": false
      },
      "cell_type": "code",
      "source": "## Step 4: Write code here\n\n",
      "execution_count": null,
      "outputs": []
    },
    {
      "metadata": {},
      "cell_type": "markdown",
      "source": "## Reminder of Evaluation Criteria\n\n1. What the problem attempted (analysis, code, and answered questions) ?\n2. What the problem analysis thought out? (does the program match the plan?)\n3. Does the code execute without syntax error?\n4. Does the code solve the intended problem?\n5. Is the code well written? (easy to understand, modular, and self-documenting, handles errors)\n"
    },
    {
      "metadata": {
        "collapsed": true,
        "trusted": false
      },
      "cell_type": "code",
      "source": "",
      "execution_count": null,
      "outputs": []
    }
  ],
  "metadata": {
    "anaconda-cloud": {},
    "kernelspec": {
      "name": "python3",
      "display_name": "Python 3",
      "language": "python"
    },
    "language_info": {
      "mimetype": "text/x-python",
      "nbconvert_exporter": "python",
      "name": "python",
      "pygments_lexer": "ipython3",
      "version": "3.5.4",
      "file_extension": ".py",
      "codemirror_mode": {
        "version": 3,
        "name": "ipython"
      }
    }
  },
  "nbformat": 4,
  "nbformat_minor": 1
}