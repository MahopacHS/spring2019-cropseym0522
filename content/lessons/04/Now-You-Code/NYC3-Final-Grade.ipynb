{
  "cells": [
    {
      "metadata": {},
      "cell_type": "markdown",
      "source": "# Now You Code 3: Final Grade in IST256\n\n# Part 1\n\nOur Course Syllabus has a grading scale here:\n\nhttp://ist256.syr.edu/syllabus/#grading-scale\n\nWrite a Python program to input a number of points earned out of 600 and then\noutputs the registrar letter grade. \n\nFor example:\n\n    IST256 Grade Calculator\n    Enter total points out of 600:  550\n    Grade: A- \n"
    },
    {
      "metadata": {
        "collapsed": true
      },
      "cell_type": "markdown",
      "source": "## Step 1: Problem Analysis\n\nInputs:\n\nOutputs:\n\nAlgorithm (Steps in Program):\n\n\n"
    },
    {
      "metadata": {
        "trusted": true
      },
      "cell_type": "code",
      "source": "print(\"IST256 Grade Calculator\")\npoints = int(input(\"Enter total points out of 600: \"))\nif points>= 570:\n    grade = 'A'\nelif points>= 540:\n    grade = 'A-'\nelif points>= 510:\n    grade = 'B+'\nelif points>= 480:\n    grade = 'B'\nelif points>= 450:\n    grade = 'B-'\nelif points>= 420:\n    grade = 'C+'\nelif points>= 390:\n    grade = 'C'\nelif points>= 360:\n    grade = 'C-'\nelif points>= 300:\n    grade = 'D'\nelif points>= 0:\n    grade = 'F'\nprint(\"Grade: %s\" %(grade))\n\n",
      "execution_count": null,
      "outputs": [
        {
          "output_type": "stream",
          "text": "IST256 Grade Calculator\n",
          "name": "stdout"
        }
      ]
    },
    {
      "metadata": {},
      "cell_type": "markdown",
      "source": "# Part 2\n\nNow that you got it working,  re-write your code to handle bad input. Specifically:\n\n\n- non integer values\n- integer values outside the 0 to 600 range.\n\n**Note:** Exception handling is not part of our algorithm. It's a programming concern, not a problem-solving concern!"
    },
    {
      "metadata": {
        "trusted": true
      },
      "cell_type": "code",
      "source": "## Step 2 (again): write code again but handle errors with try...except\nprint(\"IST256 Grade Calculator\")\npoints = int(input(\"Enter total points out of 600: \"))\nif points >=0 and points <=600:    \n    if points>= 570:\n        grade = 'A'\n    elif points>= 540:\n        grade = 'A-'\n    elif points>= 510:\n        grade = 'B+'\n    elif points>= 480:\n        grade = 'B'\n    elif points>= 450:\n        grade = 'B-'\n    elif points>= 420:\n        grade = 'C+'\n    elif points>= 390:\n        grade = 'C'\n    elif points>= 360:\n        grade = 'C-'\n    elif points>= 300:\n        grade = 'D'\n    elif points>= 0:\n        grade = 'F'\n    print(\"Grade: %s\" %(grade))\n\nelse: \n    print(\"Not a valid number\")\n\n\n",
      "execution_count": 9,
      "outputs": [
        {
          "output_type": "stream",
          "text": "IST256 Grade Calculator\nEnter total points out of 600: 899\nNot a valid number\n",
          "name": "stdout"
        }
      ]
    },
    {
      "metadata": {},
      "cell_type": "markdown",
      "source": "## Step 3: Questions\n\n1. What specific Python Error are we handling (please provide the name of it)? \nthis is a value error\n\n2. How many times must you execute this program and check the output before you canbe reasonably assured your code is correct? Explain. \nyou would execute this four times\n\n3. When testing this program do you think its more important to test numbers in the middle of the grade range or exactly on the boundary between one grade range and the next. Justify your response. \non the boundary because you would not have to worry about the numbers in the middle because the program already does it for you. "
    },
    {
      "metadata": {},
      "cell_type": "markdown",
      "source": "## Reminder of Evaluation Criteria\n\n1. What the problem attempted (analysis, code, and answered questions) ?\n2. What the problem analysis thought out? (does the program match the plan?)\n3. Does the code execute without syntax error?\n4. Does the code solve the intended problem?\n5. Is the code well written? (easy to understand, modular, and self-documenting, handles errors)\n"
    }
  ],
  "metadata": {
    "anaconda-cloud": {},
    "kernelspec": {
      "name": "python3",
      "display_name": "Python 3",
      "language": "python"
    }
  },
  "nbformat": 4,
  "nbformat_minor": 1
}